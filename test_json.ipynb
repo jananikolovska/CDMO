{
 "cells": [
  {
   "cell_type": "code",
   "execution_count": 1,
   "id": "15105e75-5e4f-4774-9d19-31170eed0b07",
   "metadata": {},
   "outputs": [],
   "source": [
    "import json\n",
    "import os\n",
    "import pandas as pd\n",
    "import numpy as np"
   ]
  },
  {
   "cell_type": "code",
   "execution_count": 45,
   "id": "7899b7c0-b568-4bda-80fd-dce27657f57e",
   "metadata": {},
   "outputs": [
    {
     "name": "stdout",
     "output_type": "stream",
     "text": [
      "No file 11.json\n"
     ]
    }
   ],
   "source": [
    "path = \"results/CP\"\n",
    "\n",
    "try:\n",
    "    with open(path + \"/1.json\", 'r') as file:\n",
    "        keys = sorted(list(json.load(file).keys()))\n",
    "        keys.extend([\"instance\"])\n",
    "        soft_df = pd.DataFrame(columns=keys)  \n",
    "except:\n",
    "    print(\"No file 1.json\")\n",
    "    soft_df = None  \n",
    "try:\n",
    "    with open(path + \"/11.json\", 'r') as file:\n",
    "        keys = sorted(list(json.load(file).keys()))\n",
    "        keys.extend([\"instance\"])\n",
    "        hard_df = pd.DataFrame(columns=keys)\n",
    "except:\n",
    "    print(\"No file 11.json\")\n",
    "    hard_df = None"
   ]
  },
  {
   "cell_type": "code",
   "execution_count": 39,
   "id": "00728ee8",
   "metadata": {},
   "outputs": [
    {
     "data": {
      "text/html": [
       "<div>\n",
       "<style scoped>\n",
       "    .dataframe tbody tr th:only-of-type {\n",
       "        vertical-align: middle;\n",
       "    }\n",
       "\n",
       "    .dataframe tbody tr th {\n",
       "        vertical-align: top;\n",
       "    }\n",
       "\n",
       "    .dataframe thead th {\n",
       "        text-align: right;\n",
       "    }\n",
       "</style>\n",
       "<table border=\"1\" class=\"dataframe\">\n",
       "  <thead>\n",
       "    <tr style=\"text-align: right;\">\n",
       "      <th></th>\n",
       "      <th>gecode_plain_bin_packing.mzn</th>\n",
       "      <th>gecode_plain_no_bin_packing.mzn</th>\n",
       "      <th>gecode_sym.mzn</th>\n",
       "      <th>gecode_sym_ordered.mzn</th>\n",
       "      <th>instance</th>\n",
       "    </tr>\n",
       "  </thead>\n",
       "  <tbody>\n",
       "  </tbody>\n",
       "</table>\n",
       "</div>"
      ],
      "text/plain": [
       "Empty DataFrame\n",
       "Columns: [gecode_plain_bin_packing.mzn, gecode_plain_no_bin_packing.mzn, gecode_sym.mzn, gecode_sym_ordered.mzn, instance]\n",
       "Index: []"
      ]
     },
     "execution_count": 39,
     "metadata": {},
     "output_type": "execute_result"
    }
   ],
   "source": [
    "soft_df"
   ]
  },
  {
   "cell_type": "code",
   "execution_count": null,
   "id": "e63f5ca7-742a-495c-b577-d3a3d18007f6",
   "metadata": {},
   "outputs": [
    {
     "name": "stdout",
     "output_type": "stream",
     "text": [
      "File: 1.json\n",
      "obj_values = [14, 14, 14, 0]\n",
      "File: 10.json\n",
      "obj_values = [244, 244, 244, 0]\n",
      "File: 2.json\n",
      "obj_values = [226, 226, 226, 226]\n",
      "File: 3.json\n",
      "obj_values = [12, 12, 12, 0]\n",
      "File: 4.json\n",
      "obj_values = [220, 220, 220, 220]\n",
      "File: 5.json\n",
      "obj_values = [206, 206, 206, 0]\n",
      "File: 6.json\n",
      "obj_values = [322, 322, 322, 322]\n",
      "File: 7.json\n",
      "obj_values = [167, 167, 167, 167]\n",
      "File: 8.json\n",
      "obj_values = [186, 186, 186, 0]\n",
      "File: 9.json\n",
      "obj_values = [436, 436, 436, 0]\n"
     ]
    }
   ],
   "source": [
    "i = 0\n",
    "for json_file in os.listdir(path):\n",
    "    with open(path + \"/\" + json_file, 'r') as file:\n",
    "        try:\n",
    "            data = json.load(file)\n",
    "        except json.JSONDecodeError:\n",
    "            print(f\"Error in file: {json_file}\")\n",
    "            continue\n",
    "        print(f\"File: {json_file}\")\n",
    "        keys = list(data.keys())\n",
    "        obj_values = [data[key][\"obj\"] for key in keys]\n",
    "        print(f\"obj_values = {obj_values}\")\n",
    "        best_key = keys[obj_values.index(min([obj for obj in obj_values if obj > 0]))]\n",
    "\n",
    "        instance = json_file[:2]\n",
    "        try:\n",
    "            instance = int(instance)\n",
    "        except ValueError:\n",
    "            instance = int(instance[0])\n",
    "        \n",
    "        obj_values.extend([instance])\n",
    "\n",
    "        # print(f\"best_key = {best_key}\")\n",
    "        # print(f\"best_obj = {data[best_key]['obj']}\")\n",
    "        # print(\"\\n\\n\")\n",
    "        # print(f\"keys = {keys}\")\n",
    "        \n",
    "        if json_file[1] == \".\" or json_file[:2] == \"10\" and soft_df is not None:\n",
    "            soft_df.loc[i] = obj_values\n",
    "        elif hard_df is not None:\n",
    "            hard_df.loc[i] = obj_values\n",
    "        else:\n",
    "            print(\"No dataframes\")\n",
    "            break\n",
    "        i += 1"
   ]
  },
  {
   "cell_type": "code",
   "execution_count": null,
   "id": "c68cf806-a24d-4f4d-b6bb-9d5e08f1534d",
   "metadata": {},
   "outputs": [],
   "source": [
    "soft = soft_df.reset_index(drop=True).set_index(\"instance\").sort_index(inplace=False)\n",
    "# hard = hard_df.reset_index(drop=True).set_index(\"instance\").sort_index(inplace=False)"
   ]
  },
  {
   "cell_type": "code",
   "execution_count": 44,
   "id": "7fc37314-e29c-49f4-bcda-e2e12d5962e6",
   "metadata": {},
   "outputs": [
    {
     "data": {
      "text/html": [
       "<div>\n",
       "<style scoped>\n",
       "    .dataframe tbody tr th:only-of-type {\n",
       "        vertical-align: middle;\n",
       "    }\n",
       "\n",
       "    .dataframe tbody tr th {\n",
       "        vertical-align: top;\n",
       "    }\n",
       "\n",
       "    .dataframe thead th {\n",
       "        text-align: right;\n",
       "    }\n",
       "</style>\n",
       "<table border=\"1\" class=\"dataframe\">\n",
       "  <thead>\n",
       "    <tr style=\"text-align: right;\">\n",
       "      <th></th>\n",
       "      <th>gecode_plain_bin_packing.mzn</th>\n",
       "      <th>gecode_plain_no_bin_packing.mzn</th>\n",
       "      <th>gecode_sym.mzn</th>\n",
       "      <th>gecode_sym_ordered.mzn</th>\n",
       "    </tr>\n",
       "    <tr>\n",
       "      <th>instance</th>\n",
       "      <th></th>\n",
       "      <th></th>\n",
       "      <th></th>\n",
       "      <th></th>\n",
       "    </tr>\n",
       "  </thead>\n",
       "  <tbody>\n",
       "    <tr>\n",
       "      <th>1</th>\n",
       "      <td>14</td>\n",
       "      <td>14</td>\n",
       "      <td>14</td>\n",
       "      <td>0</td>\n",
       "    </tr>\n",
       "    <tr>\n",
       "      <th>2</th>\n",
       "      <td>226</td>\n",
       "      <td>226</td>\n",
       "      <td>226</td>\n",
       "      <td>226</td>\n",
       "    </tr>\n",
       "    <tr>\n",
       "      <th>3</th>\n",
       "      <td>12</td>\n",
       "      <td>12</td>\n",
       "      <td>12</td>\n",
       "      <td>0</td>\n",
       "    </tr>\n",
       "    <tr>\n",
       "      <th>4</th>\n",
       "      <td>220</td>\n",
       "      <td>220</td>\n",
       "      <td>220</td>\n",
       "      <td>220</td>\n",
       "    </tr>\n",
       "    <tr>\n",
       "      <th>5</th>\n",
       "      <td>206</td>\n",
       "      <td>206</td>\n",
       "      <td>206</td>\n",
       "      <td>0</td>\n",
       "    </tr>\n",
       "    <tr>\n",
       "      <th>6</th>\n",
       "      <td>322</td>\n",
       "      <td>322</td>\n",
       "      <td>322</td>\n",
       "      <td>322</td>\n",
       "    </tr>\n",
       "    <tr>\n",
       "      <th>7</th>\n",
       "      <td>167</td>\n",
       "      <td>167</td>\n",
       "      <td>167</td>\n",
       "      <td>167</td>\n",
       "    </tr>\n",
       "    <tr>\n",
       "      <th>8</th>\n",
       "      <td>186</td>\n",
       "      <td>186</td>\n",
       "      <td>186</td>\n",
       "      <td>0</td>\n",
       "    </tr>\n",
       "    <tr>\n",
       "      <th>9</th>\n",
       "      <td>436</td>\n",
       "      <td>436</td>\n",
       "      <td>436</td>\n",
       "      <td>0</td>\n",
       "    </tr>\n",
       "    <tr>\n",
       "      <th>10</th>\n",
       "      <td>244</td>\n",
       "      <td>244</td>\n",
       "      <td>244</td>\n",
       "      <td>0</td>\n",
       "    </tr>\n",
       "  </tbody>\n",
       "</table>\n",
       "</div>"
      ],
      "text/plain": [
       "          gecode_plain_bin_packing.mzn  gecode_plain_no_bin_packing.mzn  \\\n",
       "instance                                                                  \n",
       "1                                   14                               14   \n",
       "2                                  226                              226   \n",
       "3                                   12                               12   \n",
       "4                                  220                              220   \n",
       "5                                  206                              206   \n",
       "6                                  322                              322   \n",
       "7                                  167                              167   \n",
       "8                                  186                              186   \n",
       "9                                  436                              436   \n",
       "10                                 244                              244   \n",
       "\n",
       "          gecode_sym.mzn  gecode_sym_ordered.mzn  \n",
       "instance                                          \n",
       "1                     14                       0  \n",
       "2                    226                     226  \n",
       "3                     12                       0  \n",
       "4                    220                     220  \n",
       "5                    206                       0  \n",
       "6                    322                     322  \n",
       "7                    167                     167  \n",
       "8                    186                       0  \n",
       "9                    436                       0  \n",
       "10                   244                       0  "
      ]
     },
     "execution_count": 44,
     "metadata": {},
     "output_type": "execute_result"
    }
   ],
   "source": [
    "soft"
   ]
  },
  {
   "cell_type": "code",
   "execution_count": 75,
   "id": "39788304-036e-479a-aac2-a3216e9422bd",
   "metadata": {},
   "outputs": [],
   "source": [
    "soft.to_csv(\"results_almost_final/soft_results.csv\")"
   ]
  },
  {
   "cell_type": "code",
   "execution_count": 76,
   "id": "113927bd-d642-4b19-9c30-c8d06118b1e9",
   "metadata": {},
   "outputs": [],
   "source": [
    "hard.to_csv(\"results_almost_final/hard_results.csv\")"
   ]
  }
 ],
 "metadata": {
  "kernelspec": {
   "display_name": "base",
   "language": "python",
   "name": "python3"
  },
  "language_info": {
   "codemirror_mode": {
    "name": "ipython",
    "version": 3
   },
   "file_extension": ".py",
   "mimetype": "text/x-python",
   "name": "python",
   "nbconvert_exporter": "python",
   "pygments_lexer": "ipython3",
   "version": "3.12.4"
  }
 },
 "nbformat": 4,
 "nbformat_minor": 5
}
